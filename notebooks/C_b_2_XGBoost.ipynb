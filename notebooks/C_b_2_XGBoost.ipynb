{
 "cells": [
  {
   "cell_type": "markdown",
   "id": "4d25dd6c-6cb5-4ac3-85ae-99b5a847bbba",
   "metadata": {},
   "source": [
    "# C_b_1 : Recherche de modèles\n"
   ]
  },
  {
   "cell_type": "code",
   "execution_count": 7,
   "id": "ff96d140-287a-4828-a435-f18d196573ba",
   "metadata": {},
   "outputs": [
    {
     "data": {
      "text/plain": [
       "'fr_CA.UTF-8'"
      ]
     },
     "execution_count": 7,
     "metadata": {},
     "output_type": "execute_result"
    }
   ],
   "source": [
    "import pandas as pd\n",
    "import numpy as np\n",
    "import matplotlib.pyplot as plt\n",
    "import seaborn as sns\n",
    "import os\n",
    "import locale\n",
    "import calendar\n",
    "import holidays\n",
    "from datetime import date\n",
    "from references import *\n",
    "from src import *\n",
    "\n",
    "import xgboost as xgb\n",
    "from sklearn.metrics import mean_squared_error\n",
    "from sklearn.model_selection import TimeSeriesSplit\n",
    "\n",
    "import warnings\n",
    "\n",
    "warnings.filterwarnings(\"ignore\")\n",
    "plt.style.use(\"fivethirtyeight\")\n",
    "pd.options.mode.chained_assignment = None\n",
    "\n",
    "locale.setlocale(locale.LC_ALL, \"fr_CA.UTF-8\")"
   ]
  },
  {
   "cell_type": "code",
   "execution_count": 6,
   "id": "3621f7ab-78e4-4e30-b6be-8a3bad8c4932",
   "metadata": {},
   "outputs": [
    {
     "data": {
      "text/html": [
       "<div>\n",
       "<style scoped>\n",
       "    .dataframe tbody tr th:only-of-type {\n",
       "        vertical-align: middle;\n",
       "    }\n",
       "\n",
       "    .dataframe tbody tr th {\n",
       "        vertical-align: top;\n",
       "    }\n",
       "\n",
       "    .dataframe thead th {\n",
       "        text-align: right;\n",
       "    }\n",
       "</style>\n",
       "<table border=\"1\" class=\"dataframe\">\n",
       "  <thead>\n",
       "    <tr style=\"text-align: right;\">\n",
       "      <th></th>\n",
       "      <th>MW</th>\n",
       "      <th>Temp</th>\n",
       "    </tr>\n",
       "    <tr>\n",
       "      <th>date</th>\n",
       "      <th></th>\n",
       "      <th></th>\n",
       "    </tr>\n",
       "  </thead>\n",
       "  <tbody>\n",
       "    <tr>\n",
       "      <th>2018-12-28 00:00:00</th>\n",
       "      <td>NaN</td>\n",
       "      <td>-10.0</td>\n",
       "    </tr>\n",
       "    <tr>\n",
       "      <th>2018-12-28 01:00:00</th>\n",
       "      <td>NaN</td>\n",
       "      <td>-9.0</td>\n",
       "    </tr>\n",
       "    <tr>\n",
       "      <th>2018-12-28 02:00:00</th>\n",
       "      <td>NaN</td>\n",
       "      <td>-7.8</td>\n",
       "    </tr>\n",
       "    <tr>\n",
       "      <th>2018-12-28 03:00:00</th>\n",
       "      <td>NaN</td>\n",
       "      <td>-6.3</td>\n",
       "    </tr>\n",
       "    <tr>\n",
       "      <th>2018-12-28 04:00:00</th>\n",
       "      <td>NaN</td>\n",
       "      <td>-4.1</td>\n",
       "    </tr>\n",
       "    <tr>\n",
       "      <th>...</th>\n",
       "      <td>...</td>\n",
       "      <td>...</td>\n",
       "    </tr>\n",
       "    <tr>\n",
       "      <th>2022-12-31 19:00:00</th>\n",
       "      <td>23381.99</td>\n",
       "      <td>1.9</td>\n",
       "    </tr>\n",
       "    <tr>\n",
       "      <th>2022-12-31 20:00:00</th>\n",
       "      <td>22627.35</td>\n",
       "      <td>2.5</td>\n",
       "    </tr>\n",
       "    <tr>\n",
       "      <th>2022-12-31 21:00:00</th>\n",
       "      <td>22004.14</td>\n",
       "      <td>2.1</td>\n",
       "    </tr>\n",
       "    <tr>\n",
       "      <th>2022-12-31 22:00:00</th>\n",
       "      <td>21469.17</td>\n",
       "      <td>2.0</td>\n",
       "    </tr>\n",
       "    <tr>\n",
       "      <th>2022-12-31 23:00:00</th>\n",
       "      <td>21021.14</td>\n",
       "      <td>1.8</td>\n",
       "    </tr>\n",
       "  </tbody>\n",
       "</table>\n",
       "<p>35164 rows × 2 columns</p>\n",
       "</div>"
      ],
      "text/plain": [
       "                           MW  Temp\n",
       "date                               \n",
       "2018-12-28 00:00:00       NaN -10.0\n",
       "2018-12-28 01:00:00       NaN  -9.0\n",
       "2018-12-28 02:00:00       NaN  -7.8\n",
       "2018-12-28 03:00:00       NaN  -6.3\n",
       "2018-12-28 04:00:00       NaN  -4.1\n",
       "...                       ...   ...\n",
       "2022-12-31 19:00:00  23381.99   1.9\n",
       "2022-12-31 20:00:00  22627.35   2.5\n",
       "2022-12-31 21:00:00  22004.14   2.1\n",
       "2022-12-31 22:00:00  21469.17   2.0\n",
       "2022-12-31 23:00:00  21021.14   1.8\n",
       "\n",
       "[35164 rows x 2 columns]"
      ]
     },
     "execution_count": 6,
     "metadata": {},
     "output_type": "execute_result"
    }
   ],
   "source": [
    "df = import_data()\n",
    "df"
   ]
  },
  {
   "cell_type": "markdown",
   "id": "8ba56827-4db0-48a4-b473-0c96d59bef47",
   "metadata": {},
   "source": [
    "---"
   ]
  },
  {
   "cell_type": "markdown",
   "id": "899feeb6-969b-4c8b-aa69-30be087b94fc",
   "metadata": {},
   "source": [
    "## XGBoost\n",
    "\n",
    "https://en.wikipedia.org/wiki/XGBoost\n",
    "\n",
    "XGBoost, which stands for Extreme Gradient Boosting, is a scalable, distributed gradient-boosted decision tree (GBDT) machine learning library. It provides parallel tree boosting and is the leading machine learning library for regression, classification, and ranking problems.\n",
    "\n",
    "> XGBoost gained significant favor in the last few years as a result of helping individuals and teams win virtually every Kaggle structured data competition. In these competitions, companies and researchers post data after which statisticians and data miners compete to produce the best models for predicting and describing the data. (https://www.nvidia.com/en-us/glossary/data-science/xgboost/)\n",
    "\n",
    "### Exemple inspirant ce sujet\n",
    "\n",
    "Part 1 : https://youtu.be/vV12dGe_Fho?si=Zifv1O512VNiqJ8W  \n",
    "Part 2 : https://youtu.be/z3ZnOW-S550?si=VcoYQ4S5Zlcqffyr"
   ]
  },
  {
   "cell_type": "markdown",
   "id": "30a0f103-b6f9-4e4f-b93c-09b4113a6661",
   "metadata": {},
   "source": [
    "## 1. Time Series Cross Validation\n",
    "\n",
    "test_size = 1 an"
   ]
  },
  {
   "cell_type": "code",
   "execution_count": 13,
   "id": "452ea2d9-ffe0-474c-aa42-a4f029a20df4",
   "metadata": {},
   "outputs": [],
   "source": [
    "n_split = 4\n",
    "\n",
    "tss = TimeSeriesSplit(n_splits=n_split, test_size=24*365*1, gap=24)\n",
    "df = df.sort_index()"
   ]
  },
  {
   "cell_type": "code",
   "execution_count": 12,
   "id": "00dc1c24-d96b-4eb7-bc16-8b36181a6f47",
   "metadata": {},
   "outputs": [],
   "source": [
    "fig, axs = plt.acorrsubplots(n_split,1, figsize=(15,5), share_x = True)\n",
    "\n",
    "fold = 0\n",
    "for train_idx, val_idx in tss.split(df):\n",
    "    train = df.iloc[train_idx]\n",
    "    "
   ]
  },
  {
   "cell_type": "code",
   "execution_count": null,
   "id": "bd92f3ce-47a6-4519-a036-f96487a1c992",
   "metadata": {},
   "outputs": [],
   "source": []
  },
  {
   "cell_type": "code",
   "execution_count": null,
   "id": "4ea8627c-c6ce-4a72-a75a-e5bdebce0952",
   "metadata": {},
   "outputs": [],
   "source": []
  },
  {
   "cell_type": "code",
   "execution_count": null,
   "id": "04e21ad6-0ef7-44e5-88b2-db4917ba53fb",
   "metadata": {},
   "outputs": [],
   "source": []
  },
  {
   "cell_type": "code",
   "execution_count": null,
   "id": "dd8d636b-50f2-4f86-a4eb-2a4308840e16",
   "metadata": {},
   "outputs": [],
   "source": []
  }
 ],
 "metadata": {
  "kernelspec": {
   "display_name": "Python 3 (ipykernel)",
   "language": "python",
   "name": "python3"
  },
  "language_info": {
   "codemirror_mode": {
    "name": "ipython",
    "version": 3
   },
   "file_extension": ".py",
   "mimetype": "text/x-python",
   "name": "python",
   "nbconvert_exporter": "python",
   "pygments_lexer": "ipython3",
   "version": "3.11.0"
  }
 },
 "nbformat": 4,
 "nbformat_minor": 5
}
