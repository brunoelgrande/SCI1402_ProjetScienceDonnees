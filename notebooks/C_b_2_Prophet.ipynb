{
 "cells": [
  {
   "cell_type": "markdown",
   "id": "4d25dd6c-6cb5-4ac3-85ae-99b5a847bbba",
   "metadata": {},
   "source": [
    "# C_b_1 : Recherche de modèles\n"
   ]
  },
  {
   "cell_type": "code",
   "execution_count": 3,
   "id": "ff96d140-287a-4828-a435-f18d196573ba",
   "metadata": {},
   "outputs": [
    {
     "data": {
      "text/plain": [
       "'fr_CA.UTF-8'"
      ]
     },
     "execution_count": 3,
     "metadata": {},
     "output_type": "execute_result"
    }
   ],
   "source": [
    "import pandas as pd\n",
    "import numpy as np\n",
    "import matplotlib.pyplot as plt\n",
    "import seaborn as sns\n",
    "import os\n",
    "import locale\n",
    "import calendar\n",
    "import holidays\n",
    "from datetime import date\n",
    "from references import *\n",
    "from src import *\n",
    "\n",
    "import warnings\n",
    "\n",
    "warnings.filterwarnings(\"ignore\")\n",
    "plt.style.use(\"fivethirtyeight\")\n",
    "pd.options.mode.chained_assignment = None\n",
    "\n",
    "locale.setlocale(locale.LC_ALL, \"fr_CA.UTF-8\")"
   ]
  },
  {
   "cell_type": "code",
   "execution_count": 9,
   "id": "3621f7ab-78e4-4e30-b6be-8a3bad8c4932",
   "metadata": {},
   "outputs": [
    {
     "data": {
      "text/html": [
       "<div>\n",
       "<style scoped>\n",
       "    .dataframe tbody tr th:only-of-type {\n",
       "        vertical-align: middle;\n",
       "    }\n",
       "\n",
       "    .dataframe tbody tr th {\n",
       "        vertical-align: top;\n",
       "    }\n",
       "\n",
       "    .dataframe thead th {\n",
       "        text-align: right;\n",
       "    }\n",
       "</style>\n",
       "<table border=\"1\" class=\"dataframe\">\n",
       "  <thead>\n",
       "    <tr style=\"text-align: right;\">\n",
       "      <th></th>\n",
       "      <th>MW</th>\n",
       "      <th>Temp</th>\n",
       "    </tr>\n",
       "    <tr>\n",
       "      <th>date</th>\n",
       "      <th></th>\n",
       "      <th></th>\n",
       "    </tr>\n",
       "  </thead>\n",
       "  <tbody>\n",
       "    <tr>\n",
       "      <th>2018-12-28 00:00:00</th>\n",
       "      <td>NaN</td>\n",
       "      <td>-10.0</td>\n",
       "    </tr>\n",
       "    <tr>\n",
       "      <th>2018-12-28 01:00:00</th>\n",
       "      <td>NaN</td>\n",
       "      <td>-9.0</td>\n",
       "    </tr>\n",
       "    <tr>\n",
       "      <th>2018-12-28 02:00:00</th>\n",
       "      <td>NaN</td>\n",
       "      <td>-7.8</td>\n",
       "    </tr>\n",
       "    <tr>\n",
       "      <th>2018-12-28 03:00:00</th>\n",
       "      <td>NaN</td>\n",
       "      <td>-6.3</td>\n",
       "    </tr>\n",
       "    <tr>\n",
       "      <th>2018-12-28 04:00:00</th>\n",
       "      <td>NaN</td>\n",
       "      <td>-4.1</td>\n",
       "    </tr>\n",
       "    <tr>\n",
       "      <th>...</th>\n",
       "      <td>...</td>\n",
       "      <td>...</td>\n",
       "    </tr>\n",
       "    <tr>\n",
       "      <th>2022-12-31 19:00:00</th>\n",
       "      <td>23381.99</td>\n",
       "      <td>1.9</td>\n",
       "    </tr>\n",
       "    <tr>\n",
       "      <th>2022-12-31 20:00:00</th>\n",
       "      <td>22627.35</td>\n",
       "      <td>2.5</td>\n",
       "    </tr>\n",
       "    <tr>\n",
       "      <th>2022-12-31 21:00:00</th>\n",
       "      <td>22004.14</td>\n",
       "      <td>2.1</td>\n",
       "    </tr>\n",
       "    <tr>\n",
       "      <th>2022-12-31 22:00:00</th>\n",
       "      <td>21469.17</td>\n",
       "      <td>2.0</td>\n",
       "    </tr>\n",
       "    <tr>\n",
       "      <th>2022-12-31 23:00:00</th>\n",
       "      <td>21021.14</td>\n",
       "      <td>1.8</td>\n",
       "    </tr>\n",
       "  </tbody>\n",
       "</table>\n",
       "<p>35164 rows × 2 columns</p>\n",
       "</div>"
      ],
      "text/plain": [
       "                           MW  Temp\n",
       "date                               \n",
       "2018-12-28 00:00:00       NaN -10.0\n",
       "2018-12-28 01:00:00       NaN  -9.0\n",
       "2018-12-28 02:00:00       NaN  -7.8\n",
       "2018-12-28 03:00:00       NaN  -6.3\n",
       "2018-12-28 04:00:00       NaN  -4.1\n",
       "...                       ...   ...\n",
       "2022-12-31 19:00:00  23381.99   1.9\n",
       "2022-12-31 20:00:00  22627.35   2.5\n",
       "2022-12-31 21:00:00  22004.14   2.1\n",
       "2022-12-31 22:00:00  21469.17   2.0\n",
       "2022-12-31 23:00:00  21021.14   1.8\n",
       "\n",
       "[35164 rows x 2 columns]"
      ]
     },
     "execution_count": 9,
     "metadata": {},
     "output_type": "execute_result"
    }
   ],
   "source": [
    "df = import_data()\n",
    "df"
   ]
  },
  {
   "cell_type": "markdown",
   "id": "8ba56827-4db0-48a4-b473-0c96d59bef47",
   "metadata": {},
   "source": [
    "---"
   ]
  },
  {
   "cell_type": "markdown",
   "id": "191141c7-7029-48b0-9ad8-9eaceaa8371c",
   "metadata": {},
   "source": [
    "## Prophet\n",
    "\n",
    "> Prophet is a framework for forecasting time series data based on an additive model where non-linear trends are fit with yearly, weekly, and daily seasonality, plus holiday effects. It works best with time series that have strong seasonal effects and several seasons of historical data. Prophet is robust in regard to missing data and shifts in trend, and typically handles outliers well.\n",
    "\n",
    "\n",
    "### Exemple qui a inspiré ce sujet \n",
    "\n",
    "Rob Mulla\n",
    "\n",
    "https://youtu.be/j0eioK5edqg?si=jW2169K9XA5xdbPP"
   ]
  },
  {
   "cell_type": "markdown",
   "id": "262c3faa-0ba5-45dc-b609-32d4e01c729f",
   "metadata": {},
   "source": [
    "### Autre exemple avec variables multiples : \n",
    "\n",
    "https://github.com/nicolasfauchereau/Auckland_Cycling/blob/master/notebooks/Auckland_cycling_and_weather.ipynb\n",
    "\n",
    "interpolate so that there are no missing values : utile pour la journée et demi qu'il manque de MW ??\n",
    "\n",
    "\ttemp = temp.interpolate(method='linear')\n",
    "\n",
    "\n",
    "\n",
    "\tdata_with_regressors = utils.add_regressor(data, temp, varname='temp')\n",
    "\n",
    "Then we add the extra-regressors to the model using the add_regressor method\n",
    "\n",
    "\tm.add_regressor('temp', prior_scale=0.5, mode='multiplicative')\n",
    "\n",
    "\n",
    " "
   ]
  },
  {
   "cell_type": "code",
   "execution_count": null,
   "id": "452ea2d9-ffe0-474c-aa42-a4f029a20df4",
   "metadata": {},
   "outputs": [],
   "source": []
  },
  {
   "cell_type": "code",
   "execution_count": null,
   "id": "00dc1c24-d96b-4eb7-bc16-8b36181a6f47",
   "metadata": {},
   "outputs": [],
   "source": []
  },
  {
   "cell_type": "code",
   "execution_count": null,
   "id": "bd92f3ce-47a6-4519-a036-f96487a1c992",
   "metadata": {},
   "outputs": [],
   "source": []
  },
  {
   "cell_type": "code",
   "execution_count": null,
   "id": "4ea8627c-c6ce-4a72-a75a-e5bdebce0952",
   "metadata": {},
   "outputs": [],
   "source": []
  },
  {
   "cell_type": "code",
   "execution_count": null,
   "id": "04e21ad6-0ef7-44e5-88b2-db4917ba53fb",
   "metadata": {},
   "outputs": [],
   "source": []
  },
  {
   "cell_type": "code",
   "execution_count": null,
   "id": "dd8d636b-50f2-4f86-a4eb-2a4308840e16",
   "metadata": {},
   "outputs": [],
   "source": []
  }
 ],
 "metadata": {
  "kernelspec": {
   "display_name": "Python 3 (ipykernel)",
   "language": "python",
   "name": "python3"
  },
  "language_info": {
   "codemirror_mode": {
    "name": "ipython",
    "version": 3
   },
   "file_extension": ".py",
   "mimetype": "text/x-python",
   "name": "python",
   "nbconvert_exporter": "python",
   "pygments_lexer": "ipython3",
   "version": "3.11.0"
  }
 },
 "nbformat": 4,
 "nbformat_minor": 5
}
