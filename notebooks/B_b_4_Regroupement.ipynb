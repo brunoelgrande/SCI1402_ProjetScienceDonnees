{
 "cells": [
  {
   "cell_type": "markdown",
   "id": "b87a9cdd-0864-4958-a4ff-6eafc3faba8a",
   "metadata": {},
   "source": [
    "# B_b_4 : Regroupement des données importées"
   ]
  },
  {
   "cell_type": "code",
   "execution_count": 7,
   "id": "19dcbe28-3e47-4858-a848-23ead244c16a",
   "metadata": {},
   "outputs": [
    {
     "name": "stdout",
     "output_type": "stream",
     "text": [
      "total 2352\n",
      "drwxr-xr-x  7 brunogauthier  staff     224 15 nov 07:44 \u001b[1m\u001b[36m.\u001b[m\u001b[m\n",
      "drwxr-xr-x  6 brunogauthier  staff     192 11 nov 09:54 \u001b[1m\u001b[36m..\u001b[m\u001b[m\n",
      "-rw-r--r--@ 1 brunogauthier  staff    6148 13 nov 21:27 .DS_Store\n",
      "-rw-r--r--  1 brunogauthier  staff       0 11 nov 09:54 .gitkeep\n",
      "-rw-r--r--  1 brunogauthier  staff  546659 15 nov 08:01 hist_prev_meteo.parquet\n",
      "-rw-r--r--  1 brunogauthier  staff  579170 14 nov 22:37 historique_demande_HQ.parquet\n",
      "-rw-r--r--  1 brunogauthier  staff    3266 15 nov 07:44 quotidien_demande_HQ.parquet\n"
     ]
    }
   ],
   "source": [
    "! ls -la ../data/interim"
   ]
  },
  {
   "cell_type": "code",
   "execution_count": 3,
   "id": "6d75031f-223e-453f-ba75-d31d2d8dadc9",
   "metadata": {},
   "outputs": [
    {
     "data": {
      "text/html": [
       "\n",
       "                <script type=\"application/javascript\" id=\"jupyter_black\">\n",
       "                (function() {\n",
       "                    if (window.IPython === undefined) {\n",
       "                        return\n",
       "                    }\n",
       "                    var msg = \"WARNING: it looks like you might have loaded \" +\n",
       "                        \"jupyter_black in a non-lab notebook with \" +\n",
       "                        \"`is_lab=True`. Please double check, and if \" +\n",
       "                        \"loading with `%load_ext` please review the README!\"\n",
       "                    console.log(msg)\n",
       "                    alert(msg)\n",
       "                })()\n",
       "                </script>\n",
       "                "
      ],
      "text/plain": [
       "<IPython.core.display.HTML object>"
      ]
     },
     "metadata": {},
     "output_type": "display_data"
    }
   ],
   "source": [
    "%load_ext jupyter_black\n",
    "\n",
    "# import black\n",
    "# import jupyter_black\n",
    "\n",
    "# jupyter_black.load(\n",
    "#     lab=True,\n",
    "#     line_length=55,\n",
    "#     target_version=black.TargetVersion.PY311,\n",
    "# )"
   ]
  },
  {
   "cell_type": "code",
   "execution_count": 5,
   "id": "5aa7230d-b54e-4a29-a043-2cccd52cbffb",
   "metadata": {},
   "outputs": [],
   "source": [
    "import pandas as pd\n",
    "import matplotlib.pyplot as plt\n",
    "\n",
    "from references import colors_pal\n",
    "\n",
    "plt.style.use(\"fivethirtyeight\")"
   ]
  },
  {
   "cell_type": "code",
   "execution_count": null,
   "id": "06c0f4ad-4d2f-4a7e-b844-9711ed729bd1",
   "metadata": {},
   "outputs": [],
   "source": []
  }
 ],
 "metadata": {
  "kernelspec": {
   "display_name": "Python 3 (ipykernel)",
   "language": "python",
   "name": "python3"
  },
  "language_info": {
   "codemirror_mode": {
    "name": "ipython",
    "version": 3
   },
   "file_extension": ".py",
   "mimetype": "text/x-python",
   "name": "python",
   "nbconvert_exporter": "python",
   "pygments_lexer": "ipython3",
   "version": "3.11.0"
  }
 },
 "nbformat": 4,
 "nbformat_minor": 5
}
